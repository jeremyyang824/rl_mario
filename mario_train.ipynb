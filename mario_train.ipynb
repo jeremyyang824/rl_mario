{
 "cells": [
  {
   "cell_type": "code",
   "execution_count": 1,
   "id": "9d93c9b2-0e01-4c79-9147-05414f29bbb0",
   "metadata": {},
   "outputs": [],
   "source": [
    "import os\n",
    "import time\n",
    "import numpy as np\n",
    "import cv2\n",
    "import torch\n",
    "from torch import nn\n",
    "import gym\n",
    "from matplotlib import pyplot as plt\n",
    "\n",
    "from nes_py.wrappers import JoypadSpace\n",
    "\n",
    "import gym_super_mario_bros\n",
    "from gym_super_mario_bros.actions import SIMPLE_MOVEMENT\n",
    "from gym.wrappers import GrayScaleObservation\n",
    "\n",
    "from stable_baselines3 import PPO\n",
    "from stable_baselines3.common.monitor import Monitor\n",
    "from stable_baselines3.common.vec_env import DummyVecEnv\n",
    "from stable_baselines3.common.vec_env import VecFrameStack\n",
    "from stable_baselines3.common.results_plotter import load_results, ts2xy\n",
    "from stable_baselines3.common.callbacks import BaseCallback\n",
    "from stable_baselines3.common.torch_layers import BaseFeaturesExtractor"
   ]
  },
  {
   "cell_type": "code",
   "execution_count": 2,
   "id": "8cf8a9df-6d8f-4475-97c0-499769bed4e6",
   "metadata": {},
   "outputs": [
    {
     "data": {
      "text/plain": [
       "('12.4', True)"
      ]
     },
     "execution_count": 2,
     "metadata": {},
     "output_type": "execute_result"
    }
   ],
   "source": [
    "torch.version.cuda, torch.cuda.is_available()"
   ]
  },
  {
   "cell_type": "code",
   "execution_count": 3,
   "id": "3394ec24-c52f-4d11-b621-d3c2937b4cd4",
   "metadata": {},
   "outputs": [],
   "source": [
    "base_path='C:\\\\Projects\\\\rl_mario\\\\'"
   ]
  },
  {
   "cell_type": "code",
   "execution_count": 4,
   "id": "8a28c3bf-c1ec-4dd7-bf8d-f1cb987d62b6",
   "metadata": {},
   "outputs": [
    {
     "name": "stderr",
     "output_type": "stream",
     "text": [
      "C:\\ProgramData\\anaconda3\\envs\\rl_mario\\lib\\site-packages\\gym\\envs\\registration.py:593: UserWarning: \u001b[33mWARN: The environment SuperMarioBros-1-1-v0 is out of date. You should consider upgrading to version `v3`.\u001b[0m\n",
      "  logger.warn(\n",
      "C:\\ProgramData\\anaconda3\\envs\\rl_mario\\lib\\site-packages\\gym\\core.py:317: DeprecationWarning: \u001b[33mWARN: Initializing wrapper in old step API which returns one bool instead of two. It is recommended to set `new_step_api=True` to use new step API. This will be the default behaviour in future.\u001b[0m\n",
      "  deprecation(\n",
      "C:\\ProgramData\\anaconda3\\envs\\rl_mario\\lib\\site-packages\\gym\\wrappers\\step_api_compatibility.py:39: DeprecationWarning: \u001b[33mWARN: Initializing environment in old step API which returns one bool instead of two. It is recommended to set `new_step_api=True` to use new step API. This will be the default behaviour in future.\u001b[0m\n",
      "  deprecation(\n"
     ]
    }
   ],
   "source": [
    "env = gym_super_mario_bros.make('SuperMarioBros-1-1-v0')\n",
    "env = JoypadSpace(env, SIMPLE_MOVEMENT)"
   ]
  },
  {
   "cell_type": "code",
   "execution_count": 5,
   "id": "e62697a7-1bf0-4045-a324-ec292b75c6e3",
   "metadata": {},
   "outputs": [],
   "source": [
    "# # run it\n",
    "# done = True\n",
    "# for step in range(5000):\n",
    "#     if done:\n",
    "#         state = env.reset()\n",
    "#     state, reward, done, info = env.step(env.action_space.sample())\n",
    "#     time.sleep(0.01)\n",
    "#     env.render()"
   ]
  },
  {
   "cell_type": "code",
   "execution_count": 6,
   "id": "01c3a1b0-100e-4dbc-a388-38235091eb34",
   "metadata": {},
   "outputs": [],
   "source": [
    "class SkipFrame(gym.Wrapper):\n",
    "    def __init__(self, env, skip):\n",
    "        super().__init__(env)\n",
    "        self._skip = skip\n",
    "\n",
    "    def step(self, action):\n",
    "        total_reward = 0.0\n",
    "        done = False\n",
    "        for i in range(self._skip):\n",
    "            obs, reward, done, info = self.env.step(action)\n",
    "            total_reward += reward\n",
    "            if done:\n",
    "                break\n",
    "        return obs, total_reward, done, info"
   ]
  },
  {
   "cell_type": "code",
   "execution_count": 7,
   "id": "24de1203-7343-4d5c-9466-11816418a552",
   "metadata": {},
   "outputs": [],
   "source": [
    "class ResizeEnv(gym.ObservationWrapper):\n",
    "    def __init__(self, env, size):\n",
    "        gym.ObservationWrapper.__init__(self, env)\n",
    "        (oldh, oldw, oldc) = env.observation_space.shape\n",
    "        newshape = (size, size, oldc)\n",
    "        self.observation_space = gym.spaces.Box(low=0, high=255,\n",
    "            shape=newshape, dtype=np.uint8)\n",
    "\n",
    "    def observation(self, frame):\n",
    "        height, width, _ = self.observation_space.shape\n",
    "        frame = cv2.resize(frame, (width, height), interpolation=cv2.INTER_AREA)\n",
    "        if frame.ndim == 2:\n",
    "            frame = frame[:,:,None]\n",
    "        return frame"
   ]
  },
  {
   "cell_type": "code",
   "execution_count": 8,
   "id": "a5c45ae5-b883-45aa-9a8d-c7634d33a456",
   "metadata": {},
   "outputs": [],
   "source": [
    "# training env\n",
    "monitor_dir = base_path + r'./monitor_log/'\n",
    "os.makedirs(monitor_dir,exist_ok=True)\n",
    "env = Monitor(env,monitor_dir)\n",
    "\n",
    "env = SkipFrame(env, skip=4)\n",
    "env = GrayScaleObservation(env, keep_dim=True)\n",
    "env = ResizeEnv(env, size=84)\n",
    "env = DummyVecEnv([lambda: env])\n",
    "env = VecFrameStack(env,4,channels_order='last')"
   ]
  },
  {
   "cell_type": "code",
   "execution_count": 9,
   "id": "b4ad73fa-c728-44c2-a3db-ec58ab70ca26",
   "metadata": {},
   "outputs": [
    {
     "name": "stderr",
     "output_type": "stream",
     "text": [
      "C:\\ProgramData\\anaconda3\\envs\\rl_mario\\lib\\site-packages\\gym\\utils\\passive_env_checker.py:227: DeprecationWarning: \u001b[33mWARN: Core environment is written in old step API which returns one bool instead of two. It is recommended to rewrite the environment with new step API. \u001b[0m\n",
      "  logger.deprecation(\n",
      "C:\\ProgramData\\anaconda3\\envs\\rl_mario\\lib\\site-packages\\gym\\utils\\passive_env_checker.py:233: DeprecationWarning: `np.bool8` is a deprecated alias for `np.bool_`.  (Deprecated NumPy 1.24)\n",
      "  if not isinstance(done, (bool, np.bool8)):\n"
     ]
    },
    {
     "data": {
      "text/plain": [
       "(1, 84, 84, 4)"
      ]
     },
     "execution_count": 9,
     "metadata": {},
     "output_type": "execute_result"
    }
   ],
   "source": [
    "env.reset()\n",
    "state, reward, done, info = env.step([0])\n",
    "state.shape"
   ]
  },
  {
   "cell_type": "code",
   "execution_count": 10,
   "id": "c6e6bc43-d518-40da-bda4-fffc258ed258",
   "metadata": {},
   "outputs": [
    {
     "data": {
      "image/png": "[encoded data removed]",
      "text/plain": [
       "<Figure size 1600x1600 with 4 Axes>"
      ]
     },
     "metadata": {},
     "output_type": "display_data"
    }
   ],
   "source": [
    "def display_all_frame():\n",
    "    plt.figure(figsize=(16,16))\n",
    "    for idx in range(state.shape[3]):\n",
    "        plt.subplot(1,4,idx+1)\n",
    "        plt.imshow(state[0][:,:,idx])\n",
    "    plt.show()\n",
    "    \n",
    "display_all_frame()"
   ]
  },
  {
   "cell_type": "code",
   "execution_count": 11,
   "id": "908a47c6-4c07-4aad-98f2-7f2a787844d5",
   "metadata": {},
   "outputs": [
    {
     "data": {
      "text/plain": [
       "{'n_steps': 512, 'learning_rate': 3e-07}"
      ]
     },
     "execution_count": 11,
     "metadata": {},
     "output_type": "execute_result"
    }
   ],
   "source": [
    "best_params={\n",
    "    'n_steps': 512,\n",
    "    'learning_rate': 3e-7\n",
    "}\n",
    "best_params"
   ]
  },
  {
   "cell_type": "code",
   "execution_count": 12,
   "id": "b60d5abc-4748-416e-9b68-1074e5b3bad0",
   "metadata": {},
   "outputs": [],
   "source": [
    "tensorboard_log = base_path + r'./logs/'"
   ]
  },
  {
   "cell_type": "code",
   "execution_count": 13,
   "id": "001729cb-52ab-432c-9c65-d501017d3c65",
   "metadata": {},
   "outputs": [],
   "source": [
    "class MarioNet(BaseFeaturesExtractor):\n",
    "\n",
    "    def __init__(self, observation_space: gym.spaces.Box, features_dim):\n",
    "        super(MarioNet, self).__init__(observation_space, features_dim)\n",
    "        n_input_channels = observation_space.shape[0]\n",
    "        self.cnn = nn.Sequential(\n",
    "            nn.Conv2d(n_input_channels, 32, kernel_size=3, stride=2, padding=1),\n",
    "            nn.ReLU(),\n",
    "            nn.Conv2d(32, 32, kernel_size=3, stride=2, padding=1),\n",
    "            nn.ReLU(),\n",
    "            nn.Conv2d(32, 32, kernel_size=3, stride=2, padding=1),\n",
    "            nn.ReLU(),\n",
    "            nn.Conv2d(32, 32, kernel_size=3, stride=2, padding=1),\n",
    "            nn.ReLU(),\n",
    "            nn.Flatten(),\n",
    "        )\n",
    "\n",
    "        # Compute shape by doing one forward pass\n",
    "        with torch.no_grad():\n",
    "            n_flatten = self.cnn(torch.as_tensor(observation_space.sample()[None]).float()).shape[1]\n",
    "\n",
    "        self.linear = nn.Sequential(nn.Linear(n_flatten, features_dim), nn.ReLU())\n",
    "\n",
    "    def forward(self, observations: torch.Tensor) -> torch.Tensor:\n",
    "        return self.linear(self.cnn(observations))\n",
    "\n",
    "policy_kwargs = dict(\n",
    "    features_extractor_class=MarioNet,\n",
    "    features_extractor_kwargs=dict(features_dim=512),\n",
    ")"
   ]
  },
  {
   "cell_type": "code",
   "execution_count": 14,
   "id": "7360fbc4-b39c-43bd-bc53-7014db20b74f",
   "metadata": {},
   "outputs": [
    {
     "name": "stdout",
     "output_type": "stream",
     "text": [
      "Using cuda device\n",
      "Wrapping the env in a VecTransposeImage.\n"
     ]
    }
   ],
   "source": [
    "model = PPO(\n",
    "    \"CnnPolicy\", \n",
    "    env, \n",
    "    verbose=1,\n",
    "    policy_kwargs=policy_kwargs,\n",
    "    #learning_rate=linear_schedule(3e-4),\n",
    "    device='cuda',\n",
    "    tensorboard_log = tensorboard_log,\n",
    "    **best_params\n",
    ")"
   ]
  },
  {
   "cell_type": "code",
   "execution_count": 15,
   "id": "e2fd3122-375d-4c6b-b303-97ee03c1ecac",
   "metadata": {},
   "outputs": [],
   "source": [
    "#model.set_parameters(r'C:\\\\Projects\\\\rl_mario\\\\models\\\\back\\\\model_20241201.zip')"
   ]
  },
  {
   "cell_type": "code",
   "execution_count": 16,
   "id": "559d4fa3-7b6b-4a97-a91e-b04c6dd01363",
   "metadata": {},
   "outputs": [],
   "source": [
    "class SaveCallback(BaseCallback):\n",
    "\n",
    "    def __init__(self, check_freq, save_model_dir, verbose=1):\n",
    "        super(SaveCallback, self).__init__(verbose)\n",
    "        self.check_freq = check_freq\n",
    "        self.save_path = os.path.join(save_model_dir, 'models/')\n",
    "        self.best_mean_reward = -np.inf\n",
    "\n",
    "    # def _init_callback(self) -> None:\n",
    "    def _init_callback(self):\n",
    "        # Create folder if needed\n",
    "        if self.save_path is not None:\n",
    "            os.makedirs(self.save_path, exist_ok=True)\n",
    "\n",
    "    # def _on_step(self) -> bool:\n",
    "    def _on_step(self):\n",
    "        if self.n_calls % self.check_freq == 0:\n",
    "            print('self.n_calls: ',self.n_calls)\n",
    "            model_path1 = os.path.join(self.save_path, 'model_{}'.format(self.n_calls))\n",
    "            self.model.save(model_path1)\n",
    "\n",
    "        return True"
   ]
  },
  {
   "cell_type": "code",
   "execution_count": 17,
   "id": "7e665111-a2cd-45c4-acf3-4805f3fb1679",
   "metadata": {},
   "outputs": [],
   "source": [
    "# Linear learning rate schedule\n",
    "# https://stable-baselines3.readthedocs.io/en/master/guide/examples.html#learning-rate-schedule\n",
    "from typing import Callable\n",
    "\n",
    "def linear_schedule(initial_value: float) -> Callable[[float], float]:\n",
    "    \"\"\"\n",
    "    Linear learning rate schedule.\n",
    "\n",
    "    :param initial_value: Initial learning rate.\n",
    "    :return: schedule that computes\n",
    "      current learning rate depending on remaining progress\n",
    "    \"\"\"\n",
    "    def func(progress_remaining: float) -> float:\n",
    "        \"\"\"\n",
    "        Progress will decrease from 1 (beginning) to 0.\n",
    "\n",
    "        :param progress_remaining:\n",
    "        :return: current learning rate\n",
    "        \"\"\"\n",
    "        return progress_remaining * initial_value\n",
    "\n",
    "    return func"
   ]
  },
  {
   "cell_type": "code",
   "execution_count": 17,
   "id": "ab95e9cf-e1ba-4570-9a16-dd59899367dd",
   "metadata": {},
   "outputs": [
    {
     "name": "stdout",
     "output_type": "stream",
     "text": [
      "Logging to C:\\Projects\\rl_mario\\./logs/PPO_10\n",
      "---------------------------------\n",
      "| rollout/           |          |\n",
      "|    ep_len_mean     | 705      |\n",
      "|    ep_rew_mean     | 404      |\n",
      "| time/              |          |\n",
      "|    fps             | 84       |\n",
      "|    iterations      | 1        |\n",
      "|    time_elapsed    | 6        |\n",
      "|    total_timesteps | 512      |\n",
      "---------------------------------\n",
      "self.n_calls:  1000\n",
      "-------------------------------------------\n",
      "| rollout/                |               |\n",
      "|    ep_len_mean          | 900           |\n",
      "|    ep_rew_mean          | 494           |\n",
      "| time/                   |               |\n",
      "|    fps                  | 80            |\n",
      "|    iterations           | 2             |\n",
      "|    time_elapsed         | 12            |\n",
      "|    total_timesteps      | 1024          |\n",
      "| train/                  |               |\n",
      "|    approx_kl            | 1.0593794e-08 |\n",
      "|    clip_fraction        | 0             |\n",
      "|    clip_range           | 0.2           |\n",
      "|    entropy_loss         | -1.95         |\n",
      "|    explained_variance   | 0.000828      |\n",
      "|    learning_rate        | 3e-07         |\n",
      "|    loss                 | 2.21e+03      |\n",
      "|    n_updates            | 10            |\n",
      "|    policy_gradient_loss | -3.53e-06     |\n",
      "|    value_loss           | 3.49e+03      |\n",
      "-------------------------------------------\n"
     ]
    },
    {
     "data": {
      "text/plain": [
       "<stable_baselines3.ppo.ppo.PPO at 0x19ff1275820>"
      ]
     },
     "execution_count": 17,
     "metadata": {},
     "output_type": "execute_result"
    }
   ],
   "source": [
    "callback = SaveCallback(1000, base_path)\n",
    "model.learn(total_timesteps=1000,callback=callback)"
   ]
  },
  {
   "cell_type": "code",
   "execution_count": null,
   "id": "d4881353-371f-4049-b933-210dfb304612",
   "metadata": {},
   "outputs": [],
   "source": []
  }
 ],
 "metadata": {
  "kernelspec": {
   "display_name": "Python 3 (ipykernel)",
   "language": "python",
   "name": "python3"
  },
  "language_info": {
   "codemirror_mode": {
    "name": "ipython",
    "version": 3
   },
   "file_extension": ".py",
   "mimetype": "text/x-python",
   "name": "python",
   "nbconvert_exporter": "python",
   "pygments_lexer": "ipython3",
   "version": "3.8.20"
  }
 },
 "nbformat": 4,
 "nbformat_minor": 5
}
